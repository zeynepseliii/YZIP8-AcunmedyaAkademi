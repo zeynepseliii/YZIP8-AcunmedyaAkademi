{
 "cells": [
  {
   "cell_type": "markdown",
   "id": "1cd2fdcf-16f0-4325-b5bc-9fff2e77ee3c",
   "metadata": {},
   "source": [
    " ### DECİSİON TREE ALGORİTMASI\n",
    " \n",
    "   Decision Tree, veri sınıflandırma ve regresyon işlemlerinde kullanılan bir algoritmadır. \n",
    "   Bu model, veriyi dallara ayırarak ve kararlar alarak sonuçlara ulaşır.\n",
    "\n",
    "  ## Nasıl Çalışır:\n",
    "- Her düğüm bir özelliği (değişkeni) temsil eder.\n",
    "- Dallara ayrılma özelliğin bir koşuluna göre gerçekleşir.\n",
    "- Yaprak düğümler sonuç veya sınıfları ifade eder.\n",
    "\n",
    "  ## Avantajları:\n",
    "- Yorumlanması ve görselleştirilmesi kolaydır.\n",
    "- Veri ön işleme gereksinimi düşüktür.\n",
    "\n",
    "  ## Dezavantajları:\n",
    "- Hatalı dallanma ile aşırı öğrenme riski taşır.\n",
    "- Tek bir ağaç yüksek varyansa neden olabilir.\n",
    "\n",
    " ### RANDOM FOREST ALGORİTMASI\n",
    "\n",
    " Random Forest, birden fazla Decision Tree algoritmasının birleşiminden oluşan ve sonuçları oylama veya ortalama alarak veren bir topluluk modelidir.\n",
    "\n",
    " ## Nasıl Çalışır:\n",
    "- Çeşitli Decision Tree modelleri birbirinden bağımsız olarak eğitilir.\n",
    "- Sonuçlar bir araya getirilerek daha doğru ve genellenebilir tahmin yapılır.\n",
    "\n",
    " ## Avantajları:\n",
    "- Aşırı öğrenme (overfitting) riskini azaltır.\n",
    "- Yüksek doğruluk sağlar ve genelleme yeteneği iyidir.\n",
    "\n",
    " ## Dezavantajları:\n",
    "- Hesaplama maliyeti yüksektir (özellikle büyük veri kümelerinde).\n",
    "- Yorumlanması Decision Tree kadar kolay değildir.\n",
    "\n",
    "\n",
    "\n",
    "\n",
    "\n"
   ]
  },
  {
   "cell_type": "code",
   "execution_count": null,
   "id": "abb79ee1-4411-439e-b075-89eddf94a990",
   "metadata": {},
   "outputs": [],
   "source": []
  }
 ],
 "metadata": {
  "kernelspec": {
   "display_name": "Python 3 (ipykernel)",
   "language": "python",
   "name": "python3"
  },
  "language_info": {
   "codemirror_mode": {
    "name": "ipython",
    "version": 3
   },
   "file_extension": ".py",
   "mimetype": "text/x-python",
   "name": "python",
   "nbconvert_exporter": "python",
   "pygments_lexer": "ipython3",
   "version": "3.12.7"
  }
 },
 "nbformat": 4,
 "nbformat_minor": 5
}
